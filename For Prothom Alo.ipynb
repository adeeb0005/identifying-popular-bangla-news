{
 "cells": [
  {
   "cell_type": "markdown",
   "id": "1158ebf5",
   "metadata": {},
   "source": [
    "# For Prothom Alo"
   ]
  },
  {
   "cell_type": "markdown",
   "id": "412fb0d2",
   "metadata": {},
   "source": [
    "## for পঠিত"
   ]
  },
  {
   "cell_type": "code",
   "execution_count": 1,
   "id": "8e7ccd64",
   "metadata": {},
   "outputs": [],
   "source": [
    "from datetime import date\n",
    "import pandas as pd\n",
    "import time\n",
    "from selenium import webdriver\n",
    "from selenium.webdriver.common.by import By\n",
    "from selenium.webdriver.chrome.service import Service as ChromeService\n",
    "from webdriver_manager.chrome import ChromeDriverManager\n",
    "\n",
    "driver = webdriver.Chrome(service=ChromeService(ChromeDriverManager().install()))\n",
    "\n",
    "website = 'https://www.prothomalo.com'\n",
    "driver.get(website)\n",
    "\n",
    "\n",
    "time.sleep(2)\n",
    "driver.execute_script(\"window.scrollTo(0, document.body.scrollHeight)\")"
   ]
  },
  {
   "cell_type": "markdown",
   "id": "e584ada7",
   "metadata": {},
   "source": [
    "### উপরে স্ক্রোল করে, পঠিত সেকশনে নিয়ে যাও"
   ]
  },
  {
   "cell_type": "code",
   "execution_count": 2,
   "id": "928219e2",
   "metadata": {},
   "outputs": [],
   "source": [
    "all_pothito = driver.find_elements(By.XPATH,'//div[@class=\"numbered-story-headline-wrapper\"]/a')\n",
    "#driver.quit()"
   ]
  },
  {
   "cell_type": "code",
   "execution_count": 3,
   "id": "62c54df0",
   "metadata": {},
   "outputs": [],
   "source": [
    "hdline = []\n",
    "nslnk = []\n",
    "for pothito in all_pothito:\n",
    "    #print(pothito.text, \"\\t\", pothito.get_attribute(\"href\"))\n",
    "    st = str(pothito.text)\n",
    "    hdline.append(st[2:])\n",
    "    nslnk.append(pothito.get_attribute(\"href\"))\n",
    "\n",
    "headline = []\n",
    "news_body = []\n",
    "news_link = []\n",
    "dates = []\n",
    "excel_data_df = pd.read_excel('pothito.xlsx')\n",
    "dates = list(pd.to_datetime(excel_data_df['date'].values))\n",
    "headline = list(excel_data_df['headline'].values)\n",
    "news_body = list(excel_data_df['news'].values)\n",
    "news_link = list(excel_data_df['link'].values)\n",
    "\n",
    "today = date.today()\n",
    "driver.quit()\n",
    "for hd in hdline:\n",
    "    headline.append(hd)\n",
    "for lk in nslnk:\n",
    "    news_link.append(lk)"
   ]
  },
  {
   "cell_type": "code",
   "execution_count": 4,
   "id": "0a8ad90e",
   "metadata": {},
   "outputs": [],
   "source": [
    "for link in nslnk:\n",
    "    from selenium import webdriver\n",
    "    from selenium.webdriver.common.by import By\n",
    "    from selenium.webdriver.chrome.service import Service as ChromeService\n",
    "    from webdriver_manager.chrome import ChromeDriverManager\n",
    "\n",
    "    driver = webdriver.Chrome(service=ChromeService(ChromeDriverManager().install()))\n",
    "\n",
    "    driver.get(link)\n",
    "    newses = driver.find_elements(By.XPATH,'//div[@class=\"story-element story-element-text\"]/div/p')\n",
    "    st = \"\"\n",
    "    for newss in newses:\n",
    "        st += str(newss.text)\n",
    "    news_body.append(st)\n",
    "    dates.append(str(today))\n",
    "    driver.quit()"
   ]
  },
  {
   "cell_type": "code",
   "execution_count": 5,
   "id": "30b8fa8d",
   "metadata": {},
   "outputs": [
    {
     "name": "stderr",
     "output_type": "stream",
     "text": [
      "C:\\Users\\adeeb\\AppData\\Local\\Temp\\ipykernel_22292\\141600576.py:2: FutureWarning: Inferring datetime64[ns] from data containing strings is deprecated and will be removed in a future version. To retain the old behavior explicitly pass Series(data, dtype=datetime64[ns])\n",
      "  df['date']  = dates\n",
      "C:\\Users\\adeeb\\AppData\\Local\\Temp\\ipykernel_22292\\141600576.py:2: FutureWarning: Inferring datetime64[ns] from data containing strings is deprecated and will be removed in a future version. To retain the old behavior explicitly pass Series(data, dtype=datetime64[ns])\n",
      "  df['date']  = dates\n"
     ]
    }
   ],
   "source": [
    "df = pd.DataFrame()\n",
    "df['date']  = dates\n",
    "df['headline'] = headline\n",
    "df['news'] = news_body\n",
    "df['link'] = news_link\n",
    "df.to_excel('pothito.xlsx', index=False)"
   ]
  },
  {
   "cell_type": "markdown",
   "id": "a64d35c9",
   "metadata": {},
   "source": [
    "### for আলোচিত"
   ]
  },
  {
   "cell_type": "code",
   "execution_count": 6,
   "id": "cfbb7502",
   "metadata": {},
   "outputs": [],
   "source": [
    "from selenium import webdriver\n",
    "from selenium.webdriver.common.by import By\n",
    "from selenium.webdriver.chrome.service import Service as ChromeService\n",
    "from webdriver_manager.chrome import ChromeDriverManager\n",
    "\n",
    "driver = webdriver.Chrome(service=ChromeService(ChromeDriverManager().install()))\n",
    "\n",
    "website = 'https://www.prothomalo.com'\n",
    "driver.get(website)\n",
    "\n",
    "\n",
    "time.sleep(2)\n",
    "driver.execute_script(\"window.scrollTo(0, document.body.scrollHeight)\")"
   ]
  },
  {
   "cell_type": "code",
   "execution_count": 7,
   "id": "af00fe9c",
   "metadata": {},
   "outputs": [],
   "source": [
    "all_alochito_button = driver.find_element(By.XPATH,'//h2[@class=\" tab-headline\"][1]')\n",
    "all_alochito_button.click()"
   ]
  },
  {
   "cell_type": "code",
   "execution_count": 8,
   "id": "b21afc74",
   "metadata": {},
   "outputs": [],
   "source": [
    "all_alochito = driver.find_elements(By.XPATH,'//div[@class=\"numbered-story-headline-wrapper\"]/a')"
   ]
  },
  {
   "cell_type": "code",
   "execution_count": 9,
   "id": "bcb2b979",
   "metadata": {},
   "outputs": [],
   "source": [
    "hdline = []\n",
    "nslnk = []\n",
    "for alochito in all_alochito:\n",
    "    #print(pothito.text, \"\\t\", pothito.get_attribute(\"href\"))\n",
    "    st = str(alochito.text)\n",
    "    hdline.append(st[2:])\n",
    "    nslnk.append(alochito.get_attribute(\"href\"))\n",
    "\n",
    "headline = []\n",
    "news_body = []\n",
    "news_link = []\n",
    "dates = []\n",
    "excel_data_df = pd.read_excel('alochito.xlsx')\n",
    "dates = list(pd.to_datetime(excel_data_df['date'].values))\n",
    "headline = list(excel_data_df['headline'].values)\n",
    "news_body = list(excel_data_df['news'].values)\n",
    "news_link = list(excel_data_df['link'].values)\n",
    "\n",
    "today = date.today()\n",
    "driver.quit()\n",
    "for hd in hdline:\n",
    "    headline.append(hd)\n",
    "for lk in nslnk:\n",
    "    news_link.append(lk)"
   ]
  },
  {
   "cell_type": "code",
   "execution_count": 10,
   "id": "b6e18cc9",
   "metadata": {},
   "outputs": [],
   "source": [
    "for link in nslnk:\n",
    "    from selenium import webdriver\n",
    "    from selenium.webdriver.common.by import By\n",
    "    from selenium.webdriver.chrome.service import Service as ChromeService\n",
    "    from webdriver_manager.chrome import ChromeDriverManager\n",
    "\n",
    "    driver = webdriver.Chrome(service=ChromeService(ChromeDriverManager().install()))\n",
    "\n",
    "    driver.get(link)\n",
    "    newses = driver.find_elements(By.XPATH,'//div[@class=\"story-element story-element-text\"]/div/p')\n",
    "    st = \"\"\n",
    "    for newss in newses:\n",
    "        st += str(newss.text)\n",
    "    news_body.append(st)\n",
    "    dates.append(str(today))\n",
    "    driver.quit()"
   ]
  },
  {
   "cell_type": "code",
   "execution_count": 11,
   "id": "02a92fe1",
   "metadata": {},
   "outputs": [
    {
     "name": "stderr",
     "output_type": "stream",
     "text": [
      "C:\\Users\\adeeb\\AppData\\Local\\Temp\\ipykernel_22292\\1855612104.py:2: FutureWarning: Inferring datetime64[ns] from data containing strings is deprecated and will be removed in a future version. To retain the old behavior explicitly pass Series(data, dtype=datetime64[ns])\n",
      "  df['date']  = dates\n",
      "C:\\Users\\adeeb\\AppData\\Local\\Temp\\ipykernel_22292\\1855612104.py:2: FutureWarning: Inferring datetime64[ns] from data containing strings is deprecated and will be removed in a future version. To retain the old behavior explicitly pass Series(data, dtype=datetime64[ns])\n",
      "  df['date']  = dates\n"
     ]
    }
   ],
   "source": [
    "df = pd.DataFrame()\n",
    "df['date']  = dates\n",
    "df['headline'] = headline\n",
    "df['news'] = news_body\n",
    "df['link'] = news_link\n",
    "df.to_excel('alochito.xlsx', index=False)"
   ]
  },
  {
   "cell_type": "markdown",
   "id": "69db2af4",
   "metadata": {},
   "source": [
    "### for all news"
   ]
  },
  {
   "cell_type": "code",
   "execution_count": 12,
   "id": "65f82604",
   "metadata": {},
   "outputs": [],
   "source": [
    "from selenium import webdriver\n",
    "from selenium.webdriver.common.by import By\n",
    "from selenium.webdriver.chrome.service import Service as ChromeService\n",
    "from webdriver_manager.chrome import ChromeDriverManager\n",
    "\n",
    "driver = webdriver.Chrome(service=ChromeService(ChromeDriverManager().install()))\n",
    "\n",
    "website = 'https://www.prothomalo.com'\n",
    "driver.get(website)\n",
    "\n",
    "\n",
    "time.sleep(2)\n",
    "driver.execute_script(\"window.scrollTo(0, document.body.scrollHeight)\")"
   ]
  },
  {
   "cell_type": "code",
   "execution_count": 13,
   "id": "926fad4d",
   "metadata": {},
   "outputs": [],
   "source": [
    "html = driver.find_elements(By.XPATH, '//a[@target =\"_self\"]')"
   ]
  },
  {
   "cell_type": "code",
   "execution_count": 14,
   "id": "e65c048d",
   "metadata": {},
   "outputs": [],
   "source": [
    "banner = []\n",
    "links = []"
   ]
  },
  {
   "cell_type": "code",
   "execution_count": 15,
   "id": "95c6603e",
   "metadata": {},
   "outputs": [],
   "source": [
    "for ht in html:\n",
    "    try:\n",
    "        banner.append(ht.get_attribute(\"aria-label\"))\n",
    "        links.append(ht.get_attribute(\"href\"))\n",
    "    except:\n",
    "        print(\"problems\")"
   ]
  },
  {
   "cell_type": "code",
   "execution_count": 16,
   "id": "34214c87",
   "metadata": {},
   "outputs": [
    {
     "data": {
      "text/plain": [
       "['https://www.prothomalo.com/entertainment/dhallywood/w8bbwyh53e',\n",
       " 'https://www.prothomalo.com/video/bangladesh/c91u6iar15',\n",
       " 'https://www.prothomalo.com/sports/j5xz8n9hys',\n",
       " 'https://www.prothomalo.com/search',\n",
       " 'https://www.prothomalo.com/collection/latest',\n",
       " 'https://www.prothomalo.com/politics',\n",
       " 'https://www.prothomalo.com/bangladesh',\n",
       " 'https://www.prothomalo.com/bangladesh/crime',\n",
       " 'https://www.prothomalo.com/world',\n",
       " 'https://www.prothomalo.com/business',\n",
       " 'https://www.prothomalo.com/opinion',\n",
       " 'https://www.prothomalo.com/sports',\n",
       " 'https://www.prothomalo.com/entertainment',\n",
       " 'https://www.prothomalo.com/chakri',\n",
       " 'https://www.prothomalo.com/lifestyle',\n",
       " 'https://www.prothomalo.com/search',\n",
       " 'https://www.prothomalo.com/entertainment/dhallywood/w8bbwyh53e',\n",
       " 'https://www.prothomalo.com/video/bangladesh/c91u6iar15',\n",
       " 'https://www.prothomalo.com/sports/j5xz8n9hys',\n",
       " 'https://www.prothomalo.com/bangladesh/prt0q2tpl5',\n",
       " 'https://www.prothomalo.com/politics/z6wmnjmy07',\n",
       " 'https://www.prothomalo.com/politics/8bzfybcmhc',\n",
       " 'https://www.prothomalo.com/bangladesh/district/o33fk2sh8w',\n",
       " 'https://www.prothomalo.com/bangladesh/district/o0svplmif4',\n",
       " 'https://www.prothomalo.com/bangladesh/okc9v20l7n',\n",
       " 'https://www.prothomalo.com/opinion/column/irnz1rwy4p',\n",
       " 'https://www.prothomalo.com/politics/0n2uam3nta',\n",
       " 'https://www.prothomalo.com/politics/a0jlwynloq',\n",
       " 'https://www.prothomalo.com/lifestyle/vocdra4i9o',\n",
       " 'https://www.prothomalo.com/entertainment/bollywood/p2ai390qqk',\n",
       " 'https://www.prothomalo.com/sports/cricket/wqyl8a342c',\n",
       " 'https://www.prothomalo.com/sports/football/fsj5qshc63',\n",
       " 'https://www.prothomalo.com/business/economics/oq5m1ydnqx',\n",
       " 'https://www.prothomalo.com/bangladesh/vxv2un3pjl',\n",
       " 'https://www.prothomalo.com/bangladesh/m2pc5q6le2',\n",
       " 'https://www.prothomalo.com/world/middle-east/n8m0kyhf4v',\n",
       " 'https://www.prothomalo.com/lifestyle/health/ythzy9ov34',\n",
       " 'https://www.prothomalo.com/bangladesh/bycghr0aj0',\n",
       " 'https://www.prothomalo.com/education/admission/7xjf8ilvfe',\n",
       " 'https://www.prothomalo.com/bangladesh/prt0q2tpl5',\n",
       " 'https://www.prothomalo.com/politics/z6wmnjmy07',\n",
       " 'https://www.prothomalo.com/politics/8bzfybcmhc',\n",
       " 'https://www.prothomalo.com/bangladesh/district/o33fk2sh8w',\n",
       " 'https://www.prothomalo.com/bangladesh/district/o0svplmif4',\n",
       " 'https://www.prothomalo.com/bangladesh/okc9v20l7n',\n",
       " 'https://www.prothomalo.com/opinion/column/irnz1rwy4p',\n",
       " 'https://www.prothomalo.com/politics/0n2uam3nta',\n",
       " 'https://www.prothomalo.com/politics/a0jlwynloq',\n",
       " 'https://www.prothomalo.com/lifestyle/vocdra4i9o',\n",
       " 'https://www.prothomalo.com/entertainment/bollywood/p2ai390qqk',\n",
       " 'https://www.prothomalo.com/sports/cricket/wqyl8a342c',\n",
       " 'https://www.prothomalo.com/sports/football/fsj5qshc63',\n",
       " 'https://www.prothomalo.com/business/economics/oq5m1ydnqx',\n",
       " 'https://www.prothomalo.com/bangladesh/vxv2un3pjl',\n",
       " 'https://www.prothomalo.com/bangladesh/m2pc5q6le2',\n",
       " 'https://www.prothomalo.com/world/middle-east/n8m0kyhf4v',\n",
       " 'https://www.prothomalo.com/lifestyle/health/ythzy9ov34',\n",
       " 'https://www.prothomalo.com/bangladesh/bycghr0aj0',\n",
       " 'https://www.prothomalo.com/education/admission/7xjf8ilvfe',\n",
       " 'https://www.prothomalo.com/politics/z6wmnjmy07',\n",
       " 'https://www.prothomalo.com/politics/8bzfybcmhc',\n",
       " 'https://www.prothomalo.com/bangladesh/district/o33fk2sh8w',\n",
       " 'https://www.prothomalo.com/bangladesh/m2pc5q6le2',\n",
       " 'https://www.prothomalo.com/world/middle-east/n8m0kyhf4v',\n",
       " 'https://www.prothomalo.com/lifestyle/health/ythzy9ov34',\n",
       " 'https://www.prothomalo.com/bangladesh/bycghr0aj0',\n",
       " 'https://www.prothomalo.com/education/admission/7xjf8ilvfe',\n",
       " 'https://www.prothomalo.com/bangladesh/prt0q2tpl5',\n",
       " 'https://www.prothomalo.com/bangladesh/district/o0svplmif4',\n",
       " 'https://www.prothomalo.com/bangladesh/okc9v20l7n',\n",
       " 'https://www.prothomalo.com/lifestyle/vocdra4i9o',\n",
       " 'https://www.prothomalo.com/entertainment/bollywood/p2ai390qqk',\n",
       " 'https://www.prothomalo.com/sports/cricket/wqyl8a342c',\n",
       " 'https://www.prothomalo.com/sports/football/fsj5qshc63',\n",
       " 'https://www.prothomalo.com/business/economics/oq5m1ydnqx',\n",
       " 'https://www.prothomalo.com/bangladesh/vxv2un3pjl',\n",
       " 'https://www.prothomalo.com/opinion/column/irnz1rwy4p',\n",
       " 'https://www.prothomalo.com/politics/0n2uam3nta',\n",
       " 'https://www.prothomalo.com/politics/a0jlwynloq',\n",
       " 'https://www.prothomalo.com/education',\n",
       " 'https://www.prothomalo.com/education/admission/7xjf8ilvfe',\n",
       " 'https://www.prothomalo.com/technology',\n",
       " 'https://www.prothomalo.com/technology/jd4vrafpl0',\n",
       " 'https://www.prothomalo.com/religion',\n",
       " 'https://www.prothomalo.com/religion/islam/hz0e6gxhq0',\n",
       " 'https://www.prothomalo.com/fun',\n",
       " 'https://www.prothomalo.com/fun/0msi24anla',\n",
       " 'https://www.prothomalo.com/for-you',\n",
       " 'https://www.prothomalo.com/bangladesh/district/bbc59rq65d',\n",
       " 'https://www.prothomalo.com/bangladesh/b3l12bnvbl',\n",
       " 'https://www.prothomalo.com/bangladesh/tq9mkuy6kc',\n",
       " 'https://www.prothomalo.com/bangladesh/district/t0foq8iopq',\n",
       " 'https://www.prothomalo.com/bangladesh/district/8b2caet36k',\n",
       " 'https://www.prothomalo.com/bangladesh/district/ci8tdt4i2a',\n",
       " 'https://www.prothomalo.com/politics/o4z358qof7',\n",
       " 'https://www.prothomalo.com/bangladesh/district/euzjqsv13s',\n",
       " 'https://www.prothomalo.com/bangladesh/district/5ftl1d2mzi',\n",
       " 'https://www.prothomalo.com/sports',\n",
       " 'https://www.prothomalo.com/sports/cricket/kedxii5w3r',\n",
       " 'https://www.prothomalo.com/sports/cricket/mfa15h7d1t',\n",
       " 'https://www.prothomalo.com/sports/football/zpnbgw3tbw',\n",
       " 'https://www.prothomalo.com/sports/football/fsj5qshc63',\n",
       " 'https://www.prothomalo.com/sports/cricket/wqyl8a342c',\n",
       " 'https://www.prothomalo.com/sports/qib770pc4s',\n",
       " 'https://www.prothomalo.com/bangladesh',\n",
       " 'https://www.prothomalo.com/bangladesh/district/o0svplmif4',\n",
       " 'https://www.prothomalo.com/bangladesh/prt0q2tpl5',\n",
       " 'https://www.prothomalo.com/bangladesh/district/o33fk2sh8w',\n",
       " 'https://www.prothomalo.com/bangladesh/environment/tpvcljfnf3',\n",
       " 'https://www.prothomalo.com/politics/0n2uam3nta',\n",
       " 'https://www.prothomalo.com/bangladesh/district/1yjxnh0n8v',\n",
       " 'https://www.prothomalo.com/world',\n",
       " 'https://www.prothomalo.com/world/middle-east/n8m0kyhf4v',\n",
       " 'https://www.prothomalo.com/world/asia/dumy07a775',\n",
       " 'https://www.prothomalo.com/world/asia/56oxak5cye',\n",
       " 'https://www.prothomalo.com/world/china/si8pmduxi8',\n",
       " 'https://www.prothomalo.com/world/usa/2q6zvk1qt5',\n",
       " 'https://www.prothomalo.com/entertainment',\n",
       " 'https://www.prothomalo.com/entertainment/bollywood/p2ai390qqk',\n",
       " 'https://www.prothomalo.com/entertainment/ott/ou3ptlzag4',\n",
       " 'https://www.prothomalo.com/entertainment/song/r9xhgds3r4',\n",
       " 'https://www.prothomalo.com/entertainment/song/14kyo78c65',\n",
       " 'https://www.prothomalo.com/entertainment/dhallywood/w8bbwyh53e',\n",
       " 'https://www.prothomalo.com/entertainment/bollywood/v5mpysrfwd',\n",
       " 'https://www.prothomalo.com/entertainment/tollywood/a6ql4p75td',\n",
       " 'https://www.prothomalo.com/lifestyle',\n",
       " 'https://www.prothomalo.com/lifestyle/vocdra4i9o',\n",
       " 'https://www.prothomalo.com/lifestyle/health/ythzy9ov34',\n",
       " 'https://www.prothomalo.com/lifestyle/travel/86c0y13vh7',\n",
       " 'https://www.prothomalo.com/lifestyle/relation/fykjrupjfl',\n",
       " 'https://www.prothomalo.com/opinion',\n",
       " 'https://www.prothomalo.com/opinion/editorial/oxq9g3fk6t',\n",
       " 'https://www.prothomalo.com/opinion/column/irnz1rwy4p',\n",
       " 'https://www.prothomalo.com/opinion/column/vyijempoad',\n",
       " 'https://www.prothomalo.com/opinion/column/c8tr5c7ec3',\n",
       " 'https://www.prothomalo.com/opinion/column/3knv38ivgo',\n",
       " 'https://www.prothomalo.com/fun',\n",
       " 'https://www.prothomalo.com/fun/0msi24anla',\n",
       " 'https://www.prothomalo.com/fun/zdtps3m9e0',\n",
       " 'https://www.prothomalo.com/fun/elzaljojxq',\n",
       " 'https://www.prothomalo.com/fun/bo294aifgd',\n",
       " 'https://www.prothomalo.com/photo',\n",
       " 'https://www.prothomalo.com/photo/bangladesh/x60yhw5oko',\n",
       " 'https://www.prothomalo.com/photo/bangladesh/x60yhw5oko',\n",
       " 'https://www.prothomalo.com/photo/bangladesh/x60yhw5oko',\n",
       " 'https://www.prothomalo.com/photo/bangladesh/x60yhw5oko',\n",
       " 'https://www.prothomalo.com/photo/bangladesh/x60yhw5oko',\n",
       " 'https://www.prothomalo.com/photo/bangladesh/x60yhw5oko',\n",
       " 'https://www.prothomalo.com/photo/bangladesh/x60yhw5oko',\n",
       " 'https://www.prothomalo.com/photo/bangladesh/x60yhw5oko',\n",
       " 'https://www.prothomalo.com/photo/bangladesh/x60yhw5oko',\n",
       " 'https://www.prothomalo.com/photo/bangladesh/x60yhw5oko',\n",
       " 'https://www.prothomalo.com/photo/bangladesh/x60yhw5oko',\n",
       " 'https://www.prothomalo.com/photo/bangladesh/x60yhw5oko',\n",
       " 'https://www.prothomalo.com/photo/bangladesh/fx55sildns',\n",
       " 'https://www.prothomalo.com/photo/glimpse/xp50yxllcc',\n",
       " 'https://www.prothomalo.com/photo/bangladesh/0dzk7nm7id',\n",
       " 'https://www.prothomalo.com/photo/bangladesh/9y0788gq30',\n",
       " 'https://www.prothomalo.com/video',\n",
       " 'https://www.prothomalo.com/video/psrcjfzxur',\n",
       " 'https://www.prothomalo.com/video/bangladesh/c91u6iar15',\n",
       " 'https://www.prothomalo.com/video/bangladesh/idbhxjmvlo',\n",
       " 'https://www.prothomalo.com/video/bangladesh/mg0gsaxz6i',\n",
       " 'https://www.prothomalo.com/video/bangladesh/jx7x50tw9h',\n",
       " 'https://www.prothomalo.com/education',\n",
       " 'https://www.prothomalo.com/education/admission/7xjf8ilvfe',\n",
       " 'https://www.prothomalo.com/education/scholarship/tz96x713ca',\n",
       " 'https://www.prothomalo.com/education/scholarship/y9e8p8pefm',\n",
       " 'https://www.prothomalo.com/chakri',\n",
       " 'https://www.prothomalo.com/chakri/employment/nmarqdj6gl',\n",
       " 'https://www.prothomalo.com/chakri/employment/seaaai7877',\n",
       " 'https://www.prothomalo.com/chakri/employment/sh0k0dedu7',\n",
       " 'https://www.prothomalo.com/technology',\n",
       " 'https://www.prothomalo.com/technology/jd4vrafpl0',\n",
       " 'https://www.prothomalo.com/technology/zh5175hwnm',\n",
       " 'https://www.prothomalo.com/technology/d95hx14efw',\n",
       " 'https://www.prothomalo.com/technology/gadget',\n",
       " 'https://www.prothomalo.com/technology/gadget/54el9tscr5',\n",
       " 'https://www.prothomalo.com/technology/gadget/weyas429qx',\n",
       " 'https://www.prothomalo.com/technology/gadget/jd76q5e60t',\n",
       " 'https://www.prothomalo.com/onnoalo',\n",
       " 'https://www.prothomalo.com/onnoalo/books/t8dalusngj',\n",
       " 'https://www.prothomalo.com/onnoalo/stories/my2qql6sl3',\n",
       " 'https://www.prothomalo.com/onnoalo/v2mm7mqg2e',\n",
       " 'https://www.prothomalo.com/religion',\n",
       " 'https://www.prothomalo.com/religion/islam/hz0e6gxhq0',\n",
       " 'https://www.prothomalo.com/religion/islam/l0ipexacst',\n",
       " 'https://www.prothomalo.com/religion/islam/jjpxtd17kl',\n",
       " 'https://www.prothomalo.com/mobile-vas',\n",
       " 'https://www.prothomalo.com/circulation',\n",
       " 'https://www.prothomalo.com/privacy-policy']"
      ]
     },
     "execution_count": 16,
     "metadata": {},
     "output_type": "execute_result"
    }
   ],
   "source": [
    "links"
   ]
  },
  {
   "cell_type": "code",
   "execution_count": 17,
   "id": "d076b652",
   "metadata": {},
   "outputs": [],
   "source": [
    "tag_links = ['https://www.prothomalo.com/politics', \n",
    "'https://www.prothomalo.com/bangladesh', \n",
    "'https://www.prothomalo.com/bangladesh/crime', \n",
    "'https://www.prothomalo.com/world', \n",
    "'https://www.prothomalo.com/business', \n",
    "'https://www.prothomalo.com/opinion', \n",
    "'https://www.prothomalo.com/sports', \n",
    "'https://www.prothomalo.com/entertainment', \n",
    "'https://www.prothomalo.com/chakri', \n",
    "'https://www.prothomalo.com/lifestyle', \n",
    "'https://www.prothomalo.com/anniversary', \n",
    "'https://www.prothomalo.com/education', \n",
    "'https://www.prothomalo.com/chakri', \n",
    "'https://www.prothomalo.com/technology', \n",
    "'https://www.prothomalo.com/technology/gadget', \n",
    "'https://www.prothomalo.com/onnoalo', \n",
    "'https://www.prothomalo.com/religion']"
   ]
  },
  {
   "cell_type": "code",
   "execution_count": 18,
   "id": "21721fad",
   "metadata": {},
   "outputs": [],
   "source": [
    "news_links = []"
   ]
  },
  {
   "cell_type": "code",
   "execution_count": 19,
   "id": "092b8889",
   "metadata": {},
   "outputs": [],
   "source": [
    "for tglk in tag_links:\n",
    "    x = [link for link in links if link.startswith(tglk) and len(link) > len(tglk)]\n",
    "    news_links.extend(x)"
   ]
  },
  {
   "cell_type": "code",
   "execution_count": 20,
   "id": "d91fa5f5",
   "metadata": {},
   "outputs": [],
   "source": [
    "news_links = list(set(news_links))"
   ]
  },
  {
   "cell_type": "code",
   "execution_count": 21,
   "id": "4ac5730c",
   "metadata": {},
   "outputs": [],
   "source": [
    "total_news_links = []"
   ]
  },
  {
   "cell_type": "code",
   "execution_count": 22,
   "id": "a8e7129e",
   "metadata": {},
   "outputs": [],
   "source": [
    "for nwlk in news_links:\n",
    "    if nwlk != 'https://www.prothomalo.com/bangladesh/crime': total_news_links.append(nwlk)"
   ]
  },
  {
   "cell_type": "code",
   "execution_count": 23,
   "id": "5760e147",
   "metadata": {},
   "outputs": [
    {
     "data": {
      "text/plain": [
       "['https://www.prothomalo.com/opinion/column/vyijempoad',\n",
       " 'https://www.prothomalo.com/onnoalo/stories/my2qql6sl3',\n",
       " 'https://www.prothomalo.com/entertainment/bollywood/v5mpysrfwd',\n",
       " 'https://www.prothomalo.com/world/asia/dumy07a775',\n",
       " 'https://www.prothomalo.com/entertainment/song/r9xhgds3r4',\n",
       " 'https://www.prothomalo.com/technology/gadget/jd76q5e60t',\n",
       " 'https://www.prothomalo.com/entertainment/song/14kyo78c65',\n",
       " 'https://www.prothomalo.com/religion/islam/jjpxtd17kl',\n",
       " 'https://www.prothomalo.com/education/scholarship/tz96x713ca',\n",
       " 'https://www.prothomalo.com/politics/z6wmnjmy07',\n",
       " 'https://www.prothomalo.com/bangladesh/district/bbc59rq65d',\n",
       " 'https://www.prothomalo.com/bangladesh/district/o33fk2sh8w',\n",
       " 'https://www.prothomalo.com/politics/o4z358qof7',\n",
       " 'https://www.prothomalo.com/bangladesh/district/euzjqsv13s',\n",
       " 'https://www.prothomalo.com/opinion/column/c8tr5c7ec3',\n",
       " 'https://www.prothomalo.com/entertainment/dhallywood/w8bbwyh53e',\n",
       " 'https://www.prothomalo.com/entertainment/bollywood/p2ai390qqk',\n",
       " 'https://www.prothomalo.com/religion/islam/l0ipexacst',\n",
       " 'https://www.prothomalo.com/sports/qib770pc4s',\n",
       " 'https://www.prothomalo.com/technology/gadget/54el9tscr5',\n",
       " 'https://www.prothomalo.com/bangladesh/bycghr0aj0',\n",
       " 'https://www.prothomalo.com/chakri/employment/sh0k0dedu7',\n",
       " 'https://www.prothomalo.com/bangladesh/environment/tpvcljfnf3',\n",
       " 'https://www.prothomalo.com/lifestyle/travel/86c0y13vh7',\n",
       " 'https://www.prothomalo.com/lifestyle/relation/fykjrupjfl',\n",
       " 'https://www.prothomalo.com/bangladesh/m2pc5q6le2',\n",
       " 'https://www.prothomalo.com/bangladesh/b3l12bnvbl',\n",
       " 'https://www.prothomalo.com/onnoalo/books/t8dalusngj',\n",
       " 'https://www.prothomalo.com/bangladesh/prt0q2tpl5',\n",
       " 'https://www.prothomalo.com/entertainment/ott/ou3ptlzag4',\n",
       " 'https://www.prothomalo.com/chakri/employment/nmarqdj6gl',\n",
       " 'https://www.prothomalo.com/lifestyle/vocdra4i9o',\n",
       " 'https://www.prothomalo.com/bangladesh/tq9mkuy6kc',\n",
       " 'https://www.prothomalo.com/world/china/si8pmduxi8',\n",
       " 'https://www.prothomalo.com/bangladesh/district/o0svplmif4',\n",
       " 'https://www.prothomalo.com/technology/gadget',\n",
       " 'https://www.prothomalo.com/business/economics/oq5m1ydnqx',\n",
       " 'https://www.prothomalo.com/sports/football/zpnbgw3tbw',\n",
       " 'https://www.prothomalo.com/chakri/employment/seaaai7877',\n",
       " 'https://www.prothomalo.com/bangladesh/district/5ftl1d2mzi',\n",
       " 'https://www.prothomalo.com/sports/cricket/wqyl8a342c',\n",
       " 'https://www.prothomalo.com/opinion/column/irnz1rwy4p',\n",
       " 'https://www.prothomalo.com/sports/j5xz8n9hys',\n",
       " 'https://www.prothomalo.com/politics/a0jlwynloq',\n",
       " 'https://www.prothomalo.com/bangladesh/district/1yjxnh0n8v',\n",
       " 'https://www.prothomalo.com/politics/8bzfybcmhc',\n",
       " 'https://www.prothomalo.com/sports/cricket/kedxii5w3r',\n",
       " 'https://www.prothomalo.com/religion/islam/hz0e6gxhq0',\n",
       " 'https://www.prothomalo.com/bangladesh/okc9v20l7n',\n",
       " 'https://www.prothomalo.com/sports/football/fsj5qshc63',\n",
       " 'https://www.prothomalo.com/onnoalo/v2mm7mqg2e',\n",
       " 'https://www.prothomalo.com/politics/0n2uam3nta',\n",
       " 'https://www.prothomalo.com/education/admission/7xjf8ilvfe',\n",
       " 'https://www.prothomalo.com/world/middle-east/n8m0kyhf4v',\n",
       " 'https://www.prothomalo.com/bangladesh/district/t0foq8iopq',\n",
       " 'https://www.prothomalo.com/opinion/editorial/oxq9g3fk6t',\n",
       " 'https://www.prothomalo.com/opinion/column/3knv38ivgo',\n",
       " 'https://www.prothomalo.com/sports/cricket/mfa15h7d1t',\n",
       " 'https://www.prothomalo.com/technology/zh5175hwnm',\n",
       " 'https://www.prothomalo.com/technology/d95hx14efw',\n",
       " 'https://www.prothomalo.com/bangladesh/district/ci8tdt4i2a',\n",
       " 'https://www.prothomalo.com/entertainment/tollywood/a6ql4p75td',\n",
       " 'https://www.prothomalo.com/bangladesh/district/8b2caet36k',\n",
       " 'https://www.prothomalo.com/bangladesh/vxv2un3pjl',\n",
       " 'https://www.prothomalo.com/world/usa/2q6zvk1qt5',\n",
       " 'https://www.prothomalo.com/world/asia/56oxak5cye',\n",
       " 'https://www.prothomalo.com/education/scholarship/y9e8p8pefm',\n",
       " 'https://www.prothomalo.com/technology/jd4vrafpl0',\n",
       " 'https://www.prothomalo.com/technology/gadget/weyas429qx',\n",
       " 'https://www.prothomalo.com/lifestyle/health/ythzy9ov34']"
      ]
     },
     "execution_count": 23,
     "metadata": {},
     "output_type": "execute_result"
    }
   ],
   "source": [
    "total_news_links"
   ]
  },
  {
   "cell_type": "code",
   "execution_count": 24,
   "id": "6ee5ad81",
   "metadata": {},
   "outputs": [],
   "source": [
    "len(total_news_links)\n",
    "new_links = []\n",
    "headline = []\n",
    "news_body = []\n",
    "dates = []"
   ]
  },
  {
   "cell_type": "code",
   "execution_count": 25,
   "id": "bfe09235",
   "metadata": {},
   "outputs": [],
   "source": [
    "for link in total_news_links:\n",
    "    from selenium import webdriver\n",
    "    from selenium.webdriver.common.by import By\n",
    "    from selenium.webdriver.chrome.service import Service as ChromeService\n",
    "    from webdriver_manager.chrome import ChromeDriverManager\n",
    "\n",
    "    driver = webdriver.Chrome(service=ChromeService(ChromeDriverManager().install()))\n",
    "\n",
    "    driver.get(link)\n",
    "    newses = driver.find_elements(By.XPATH,'//div[@class=\"story-element story-element-text\"]/div/p')\n",
    "    sa = \"\"\n",
    "    try:\n",
    "        heading = driver.find_element(By.XPATH, '//div/h1')\n",
    "        sa = heading.text\n",
    "    except:\n",
    "        sa = \"\"\n",
    "    st = \"\"\n",
    "    for newss in newses:\n",
    "        st += str(newss.text)\n",
    "    news_body.append(st)\n",
    "    dates.append(str(today))\n",
    "    new_links.append(link)\n",
    "    headline.append(sa)\n",
    "    driver.quit()"
   ]
  },
  {
   "cell_type": "code",
   "execution_count": 26,
   "id": "967fc4f9",
   "metadata": {},
   "outputs": [],
   "source": [
    "df = pd.DataFrame()\n",
    "df['date']  = dates\n",
    "df['headline'] = headline\n",
    "df['news'] = news_body\n",
    "df['link'] = new_links\n",
    "df.to_excel('all news.xlsx', index=False)"
   ]
  },
  {
   "cell_type": "code",
   "execution_count": null,
   "id": "288d52fb",
   "metadata": {},
   "outputs": [],
   "source": []
  }
 ],
 "metadata": {
  "kernelspec": {
   "display_name": "Python 3 (ipykernel)",
   "language": "python",
   "name": "python3"
  },
  "language_info": {
   "codemirror_mode": {
    "name": "ipython",
    "version": 3
   },
   "file_extension": ".py",
   "mimetype": "text/x-python",
   "name": "python",
   "nbconvert_exporter": "python",
   "pygments_lexer": "ipython3",
   "version": "3.10.9"
  }
 },
 "nbformat": 4,
 "nbformat_minor": 5
}
